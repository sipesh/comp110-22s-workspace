{
 "cells": [
  {
   "cell_type": "markdown",
   "metadata": {},
   "source": [
    "# Analysis for Continuous Improvement\n",
    "\n",
    "Author Name: Heidi Sipes\n",
    "\n",
    "9-digit PID: 730469262\n",
    "\n",
    "Continuous Improvement embraces a belief there is _always room to make things better_. It is a mindset and process we value and practice in this course. In this assignment, you are able to practice continuous improvement and contribute to the design ideas of the course.\n",
    "\n",
    "## Brainstorming Ideas\n",
    "\n",
    "Reflect on your personal experiences and observations in COMP110 and **brainstorm modifications to the course that _create value_ beyond its current design**. When brainstorming, try not to be critical of the ideas you come up with regarding scale, stakeholders impacted, or for any other reasons. In the markdown cell below, brainstorm 3 to 5 ideas you think would create value for you.\n",
    "\n",
    "Each brainstormed idea should state a. the suggested change or addition, b. what the expected value created, and c. which specific stakeholders would benefit.  If helpful, expand on the following template \"The course should (state idea here) because it will (state value created here) for (insert stakeholders here).\"\n",
    "\n",
    "Example A: \"The course should use only examples from psychology experiments because it will be more relevant for students who are psychology majors.\"\n",
    "\n",
    "Example B: \"The course should not have post-lesson questions because they are not useful for most students in the class.\""
   ]
  },
  {
   "cell_type": "markdown",
   "metadata": {},
   "source": [
    "### Part 1. Creative Ideation\n",
    "\n",
    "1. The course should incorporate at least one group project because it would help make the class more collaborative and less isolating for the students in the class.\n",
    "2. The course should be worth 4 credit hours instead of 3 credit hours because it would then reflect the appropriate amount of time students have to dedicate to the course. The stakeholders would be the students in the class and the instructors. \n",
    "3. The course should include a recitation because it would allow time for deeper discussion for all students in the class and place less time spent at tutoring for the students. This would also help the TAs by decreasing the amount of time students go to tutoring. \n",
    "4.  The course should eliminate the quizzes and use the completed projects and exercises as the primary assessments because the work on the projects and exercises demonstrates the comprehension of the material. The stakeholders would be the students in the class, the instructor and the TAs (would decrease the time spent grading assignments).\n",
    "5.  The course should offer separate sections for STEM and non-STEM majors because exercises could then be tailored for STEM and non-STEM fields, allowing students to gain experience working with relevant projects in their majors and making the course more interesting. The stakeholders would be the students in the class and the University departments (STEM and non-STEM departments could offer suggestions for relevant projects to excite students)."
   ]
  },
  {
   "cell_type": "markdown",
   "metadata": {},
   "source": [
    "## Connecting with Available Data\n",
    "\n",
    "The data you have available for this analysis is limited to the anonymized course survey you and your peers filled out a few weeks ago. The data is found in the `survey.csv` file in this exercise directory. Each row represents an individual survey response. Each column has a description which can be found on the project write-up here: <https://22s.comp110.com/exercises/ex08.html>\n",
    "\n",
    "Review the list of available data and identify which one of your ideas _does not_, or is _least likely to_, have relevant data to support the analysis of your idea to create value. In the box below, identify which of your ideas lacks data and suggest how we might be able to collect this data in the future. One aspect of _continuous improvement_ is trying to avoid \"tunnel vision\" where possible improvements are not considered because there is no data available to analyze it. Identifying new data sources can unlock improvements!"
   ]
  },
  {
   "cell_type": "markdown",
   "metadata": {},
   "source": [
    "### Part 2. Identifying Missing Data\n",
    "\n",
    "1. Idea without sufficient data to analyze: The idea that a group project would benefit the students by making the class feel more collaborative and less isolating for the students. The size of the class is large and a group project could make it feel smaller. \n",
    "\n",
    "\n",
    "2. Suggestion for how to collect data to support this idea in the future: Currently, on the survey there is not a question asking if students feel like the course is too large and if they would benefit from working on a group project. The data collected from the survey does not cover how students feel about the size of the course. Adding questions that would collect data to assess how students perceive the size of the course would provide a context to analyze the benefit of adding a group project. Questions for example could be added to the survey that asks the students opinions about wanting more student interaction and whether they would benefit from closer collaboration with fellow students. Questions like this would help to assess the validity of adding a group project. \n",
    "\n",
    "\n"
   ]
  },
  {
   "cell_type": "markdown",
   "metadata": {},
   "source": [
    "## Choosing an Idea to Analyze\n",
    "\n",
    "Consider those of your ideas which _do_ seem likely to have relevant data to analyze. If none of your ideas do, spend a few minutes and brainstorm another idea or two with the added connection of data available on hand and add those ideas to your brainstormed ideas list.\n",
    "\n",
    "Select the one idea which you believe is _most valuable_ to analyze relative to the others and has data to support the analysis of. In the markdown cell for Part 3 below, identify the idea you are exploring and articulate why you believe it is most valuable (e.g. widest impact, biggest opportunity for improvement, simplest change for significant improvement, and so on)."
   ]
  },
  {
   "cell_type": "markdown",
   "metadata": {},
   "source": [
    "### Part 3. Choosing Your Analysis\n",
    "\n",
    "1. Idea to analyze with available data: Perform an analysis to investigate if quizzes should be eliminated as an assessment tool for the course and rely on programming assignments for assessment. The data in the survey that can be analyzed in regards to the effectiveness of quizzes is information for “qz effective” (quiz effective) and “programming effective”. Comparing the information collected for these fields would help provide valuable information as to the most beneficial and effective assessment tool. \n",
    "\n",
    "2. This idea is more valuable than the others brainstormed because: This analysis would provide the biggest opportunity for improvement in the course because it would help ensure students feel that the work they are doing in the course is being assessed fairly and accurately, and it will identify the best assessment tools for the course. The course is hands on and identifying the best way to assess students’ performance is important. It will also allow the instructor to focus on developing comprehensive projects that test the students understanding rather than trying to design quizzes, exercises, and projects. \n",
    "\n",
    "\n"
   ]
  },
  {
   "cell_type": "markdown",
   "metadata": {},
   "source": [
    "## Your Analysis\n",
    "\n",
    "Before you begin analysis, a reminder that we do not expect the data to support everyone's ideas and you can complete this exercise for full credit even if the data does not clearly support your suggestion or even completely refutes it. What we are looking for is a logical attempt to explore the data using the techniques you have learned up until now in a way that _either_ supports, refutes, or does not have a clear result and then to reflect on your findings after the analysis.\n",
    "\n",
    "Using the utility functions you created for the previous exercise, you will continue with your analysis in the following part. Before you begin, refer to the rubric on the technical expectations of this section in the exercise write-up.\n",
    "\n",
    "In this section, you are expected to interleave code and markdown cells such that for each step of your analysis you are starting with an English description of what you are planning to do next in a markdown cell, followed by a Python cell that performs that step of the analysis."
   ]
  },
  {
   "cell_type": "markdown",
   "metadata": {},
   "source": [
    "### Part 4. Analysis\n",
    "\n",
    "We begin by changing some settings in the notebook to automatically reload changes to imported files."
   ]
  },
  {
   "cell_type": "code",
   "execution_count": 2,
   "metadata": {},
   "outputs": [],
   "source": [
    "%reload_ext autoreload\n",
    "%autoreload 2"
   ]
  },
  {
   "cell_type": "markdown",
   "metadata": {},
   "source": [
    "We continue by importing the helper functions from `data_utils`."
   ]
  },
  {
   "cell_type": "code",
   "execution_count": 3,
   "metadata": {},
   "outputs": [],
   "source": [
    "from data_utils import read_csv_rows, column_values, columnar, head, select, count, greater_than\n",
    "    \n"
   ]
  },
  {
   "cell_type": "markdown",
   "metadata": {},
   "source": [
    "Next, ... (you take it from here and add additional code and markdown cells to read in the CSV file and process it as needed)"
   ]
  },
  {
   "cell_type": "code",
   "execution_count": 4,
   "metadata": {},
   "outputs": [],
   "source": [
    "SURVEY_DATA_CSV_FILE_PATH: str = \"../../data/survey.csv\""
   ]
  },
  {
   "cell_type": "markdown",
   "metadata": {},
   "source": [
    "## read_csv_rows\n",
    "In this step, I used the read_csv_rows function to read the entire CSV data and transform the data into a list of rows, each row represented as a dictionary of strings."
   ]
  },
  {
   "cell_type": "code",
   "execution_count": 5,
   "metadata": {},
   "outputs": [
    {
     "name": "stdout",
     "output_type": "stream",
     "text": [
      "Data File Read: ../../data/survey.csv\n",
      "620 rows\n",
      "35 columns\n",
      "Columns names: dict_keys(['row', 'year', 'unc_status', 'comp_major', 'primary_major', 'data_science', 'prereqs', 'prior_exp', 'ap_principles', 'ap_a', 'other_comp', 'prior_time', 'languages', 'hours_online_social', 'hours_online_work', 'lesson_time', 'sync_perf', 'all_sync', 'flipped_class', 'no_hybrid', 'own_notes', 'own_examples', 'oh_visits', 'ls_effective', 'lsqs_effective', 'programming_effective', 'qz_effective', 'oh_effective', 'tutoring_effective', 'pace', 'difficulty', 'understanding', 'interesting', 'valuable', 'would_recommend'])\n"
     ]
    }
   ],
   "source": [
    "data_rows: list[dict[str, str]] = read_csv_rows(SURVEY_DATA_CSV_FILE_PATH)\n",
    "\n",
    "if len(data_rows) > 0:\n",
    "    print(f\"Data File Read: {SURVEY_DATA_CSV_FILE_PATH}\")\n",
    "    print(f\"{len(data_rows)} rows\")\n",
    "    print(f\"{len(data_rows[0].keys())} columns\")\n",
    "    print(f\"Columns names: {data_rows[0].keys()}\")\n",
    "    "
   ]
  },
  {
   "cell_type": "markdown",
   "metadata": {},
   "source": [
    "## column_values \n",
    "In this step I used the column_values function for the column qz_effective and the function returned a list[str] of all values of the column qz_effective"
   ]
  },
  {
   "cell_type": "code",
   "execution_count": 6,
   "metadata": {},
   "outputs": [
    {
     "name": "stdout",
     "output_type": "stream",
     "text": [
      "Column 'qz_effective' has 620 values.\n",
      "The first five values are:\n",
      "5\n",
      "5\n",
      "7\n",
      "5\n",
      "6\n",
      "7\n",
      "5\n",
      "7\n",
      "7\n",
      "7\n",
      "7\n",
      "5\n",
      "5\n",
      "5\n",
      "7\n",
      "5\n",
      "7\n",
      "4\n",
      "6\n",
      "7\n",
      "6\n",
      "6\n",
      "6\n",
      "7\n",
      "1\n",
      "6\n",
      "4\n",
      "6\n",
      "4\n",
      "6\n",
      "3\n",
      "5\n",
      "5\n",
      "7\n",
      "4\n",
      "6\n",
      "7\n",
      "3\n",
      "6\n",
      "6\n",
      "6\n",
      "7\n",
      "7\n",
      "5\n",
      "3\n",
      "6\n",
      "6\n",
      "5\n",
      "3\n",
      "6\n",
      "7\n",
      "6\n",
      "6\n",
      "1\n",
      "3\n",
      "4\n",
      "6\n",
      "5\n",
      "5\n",
      "7\n",
      "6\n",
      "4\n",
      "7\n",
      "7\n",
      "7\n",
      "5\n",
      "7\n",
      "7\n",
      "7\n",
      "4\n",
      "7\n",
      "5\n",
      "5\n",
      "7\n",
      "5\n",
      "6\n",
      "6\n",
      "5\n",
      "6\n",
      "1\n",
      "3\n",
      "6\n",
      "6\n",
      "4\n",
      "5\n",
      "7\n",
      "5\n",
      "7\n",
      "5\n",
      "5\n",
      "2\n",
      "3\n",
      "4\n",
      "1\n",
      "6\n",
      "7\n",
      "7\n",
      "5\n",
      "7\n",
      "7\n",
      "7\n",
      "6\n",
      "4\n",
      "7\n",
      "7\n",
      "3\n",
      "7\n",
      "3\n",
      "6\n",
      "6\n",
      "7\n",
      "5\n",
      "6\n",
      "3\n",
      "7\n",
      "5\n",
      "7\n",
      "2\n",
      "7\n",
      "7\n",
      "7\n",
      "6\n",
      "5\n",
      "5\n",
      "4\n",
      "7\n",
      "2\n",
      "5\n",
      "7\n",
      "2\n",
      "7\n",
      "4\n",
      "4\n",
      "5\n",
      "5\n",
      "7\n",
      "7\n",
      "7\n",
      "3\n",
      "5\n",
      "5\n",
      "4\n",
      "7\n",
      "5\n",
      "5\n",
      "7\n",
      "5\n",
      "5\n",
      "6\n",
      "3\n",
      "7\n",
      "4\n",
      "3\n",
      "7\n",
      "1\n",
      "5\n",
      "5\n",
      "6\n",
      "1\n",
      "4\n",
      "7\n",
      "4\n",
      "3\n",
      "4\n",
      "6\n",
      "4\n",
      "6\n",
      "4\n",
      "7\n",
      "4\n",
      "2\n",
      "4\n",
      "6\n",
      "4\n",
      "4\n",
      "3\n",
      "2\n",
      "5\n",
      "7\n",
      "6\n",
      "2\n",
      "4\n",
      "7\n",
      "5\n",
      "7\n",
      "5\n",
      "6\n",
      "5\n",
      "7\n",
      "4\n",
      "2\n",
      "4\n",
      "5\n",
      "5\n",
      "1\n",
      "6\n",
      "6\n",
      "7\n",
      "7\n",
      "2\n",
      "4\n",
      "6\n",
      "5\n",
      "5\n",
      "5\n",
      "7\n",
      "1\n",
      "6\n",
      "7\n",
      "7\n",
      "5\n",
      "7\n",
      "1\n",
      "6\n",
      "5\n",
      "4\n",
      "4\n",
      "7\n",
      "5\n",
      "6\n",
      "6\n",
      "6\n",
      "3\n",
      "6\n",
      "6\n",
      "7\n",
      "6\n",
      "6\n",
      "5\n",
      "3\n",
      "7\n",
      "7\n",
      "1\n",
      "7\n",
      "5\n",
      "3\n",
      "5\n",
      "7\n",
      "2\n",
      "5\n",
      "4\n",
      "6\n",
      "2\n",
      "6\n",
      "7\n",
      "6\n",
      "6\n",
      "7\n",
      "5\n",
      "3\n",
      "7\n",
      "3\n",
      "7\n",
      "5\n",
      "3\n",
      "5\n",
      "3\n",
      "2\n",
      "7\n",
      "5\n",
      "4\n",
      "5\n",
      "7\n",
      "4\n",
      "7\n",
      "4\n",
      "4\n",
      "4\n",
      "6\n",
      "6\n",
      "6\n",
      "3\n",
      "7\n",
      "6\n",
      "5\n",
      "6\n",
      "2\n",
      "6\n",
      "5\n",
      "5\n",
      "6\n",
      "5\n",
      "6\n",
      "4\n",
      "6\n",
      "7\n",
      "4\n",
      "3\n",
      "6\n",
      "6\n",
      "5\n",
      "5\n",
      "5\n",
      "6\n",
      "6\n",
      "6\n",
      "6\n",
      "5\n",
      "7\n",
      "5\n",
      "1\n",
      "4\n",
      "5\n",
      "7\n",
      "4\n",
      "6\n",
      "6\n",
      "7\n",
      "4\n",
      "7\n",
      "3\n",
      "6\n",
      "7\n",
      "7\n",
      "4\n",
      "7\n",
      "7\n",
      "4\n",
      "3\n",
      "3\n",
      "6\n",
      "7\n",
      "5\n",
      "4\n",
      "6\n",
      "5\n",
      "7\n",
      "1\n",
      "2\n",
      "7\n",
      "7\n",
      "1\n",
      "5\n",
      "3\n",
      "3\n",
      "3\n",
      "2\n",
      "6\n",
      "7\n",
      "5\n",
      "7\n",
      "2\n",
      "7\n",
      "7\n",
      "5\n",
      "5\n",
      "6\n",
      "4\n",
      "6\n",
      "7\n",
      "7\n",
      "4\n",
      "7\n",
      "3\n",
      "6\n",
      "2\n",
      "7\n",
      "7\n",
      "4\n",
      "6\n",
      "4\n",
      "6\n",
      "1\n",
      "7\n",
      "7\n",
      "7\n",
      "1\n",
      "5\n",
      "7\n",
      "6\n",
      "5\n",
      "5\n",
      "5\n",
      "4\n",
      "4\n",
      "5\n",
      "5\n",
      "5\n",
      "5\n",
      "5\n",
      "7\n",
      "6\n",
      "4\n",
      "5\n",
      "7\n",
      "4\n",
      "6\n",
      "6\n",
      "4\n",
      "7\n",
      "5\n",
      "2\n",
      "6\n",
      "5\n",
      "4\n",
      "1\n",
      "7\n",
      "7\n",
      "3\n",
      "7\n",
      "7\n",
      "5\n",
      "5\n",
      "6\n",
      "6\n",
      "5\n",
      "1\n",
      "5\n",
      "7\n",
      "7\n",
      "7\n",
      "7\n",
      "4\n",
      "6\n",
      "7\n",
      "7\n",
      "7\n",
      "4\n",
      "3\n",
      "4\n",
      "6\n",
      "5\n",
      "6\n",
      "4\n",
      "2\n",
      "5\n",
      "4\n",
      "5\n",
      "6\n",
      "5\n",
      "1\n",
      "5\n",
      "2\n",
      "6\n",
      "5\n",
      "5\n",
      "2\n",
      "5\n",
      "3\n",
      "7\n",
      "6\n",
      "5\n",
      "4\n",
      "5\n",
      "5\n",
      "5\n",
      "6\n",
      "7\n",
      "5\n",
      "6\n",
      "5\n",
      "6\n",
      "2\n",
      "5\n",
      "5\n",
      "5\n",
      "5\n",
      "6\n",
      "2\n",
      "4\n",
      "6\n",
      "4\n",
      "2\n",
      "7\n",
      "5\n",
      "6\n",
      "4\n",
      "6\n",
      "2\n",
      "7\n",
      "6\n",
      "5\n",
      "3\n",
      "7\n",
      "6\n",
      "4\n",
      "7\n",
      "7\n",
      "6\n",
      "5\n",
      "4\n",
      "6\n",
      "7\n",
      "3\n",
      "5\n",
      "2\n",
      "5\n",
      "6\n",
      "6\n",
      "7\n",
      "6\n",
      "6\n",
      "7\n",
      "7\n",
      "5\n",
      "1\n",
      "5\n",
      "3\n",
      "6\n",
      "6\n",
      "6\n",
      "3\n",
      "5\n",
      "5\n",
      "7\n",
      "5\n",
      "5\n",
      "3\n",
      "5\n",
      "7\n",
      "6\n",
      "6\n",
      "5\n",
      "6\n",
      "4\n",
      "3\n",
      "5\n",
      "6\n",
      "4\n",
      "2\n",
      "7\n",
      "5\n",
      "3\n",
      "4\n",
      "6\n",
      "7\n",
      "2\n",
      "3\n",
      "7\n",
      "6\n",
      "1\n",
      "7\n",
      "7\n",
      "6\n",
      "4\n",
      "1\n",
      "4\n",
      "5\n",
      "5\n",
      "6\n",
      "3\n",
      "6\n",
      "6\n",
      "4\n",
      "2\n",
      "6\n",
      "5\n",
      "5\n",
      "7\n",
      "3\n",
      "6\n",
      "6\n",
      "5\n",
      "7\n",
      "6\n",
      "3\n",
      "4\n",
      "1\n",
      "7\n",
      "7\n",
      "5\n",
      "7\n",
      "5\n",
      "7\n",
      "4\n",
      "5\n",
      "7\n",
      "6\n",
      "2\n",
      "4\n",
      "6\n",
      "3\n",
      "5\n",
      "6\n",
      "7\n",
      "5\n",
      "6\n",
      "7\n",
      "5\n",
      "4\n",
      "6\n",
      "3\n",
      "4\n",
      "5\n",
      "7\n",
      "5\n",
      "5\n",
      "5\n",
      "1\n",
      "2\n",
      "7\n",
      "6\n",
      "5\n",
      "6\n",
      "6\n",
      "4\n",
      "5\n",
      "5\n",
      "1\n",
      "6\n",
      "3\n",
      "3\n",
      "6\n",
      "6\n",
      "6\n",
      "6\n",
      "5\n",
      "3\n",
      "7\n",
      "7\n",
      "4\n",
      "6\n",
      "5\n",
      "5\n",
      "4\n",
      "6\n",
      "6\n",
      "7\n",
      "5\n",
      "5\n"
     ]
    }
   ],
   "source": [
    "qz_effective: list[str] = column_values(data_rows, \"qz_effective\")\n",
    "\n",
    "if len(qz_effective) > 0:\n",
    "    print(f\"Column 'qz_effective' has {len(qz_effective)} values.\")\n",
    "    print(\"The first five values are:\")\n",
    "    for i in range(620):\n",
    "        print(qz_effective[i])"
   ]
  },
  {
   "cell_type": "markdown",
   "metadata": {},
   "source": [
    "## Columnar \n",
    "The goal of this function is to make a table that is represented as a list of rows and turn it into one represented as a dictionary of columns. "
   ]
  },
  {
   "cell_type": "code",
   "execution_count": 7,
   "metadata": {},
   "outputs": [
    {
     "name": "stdout",
     "output_type": "stream",
     "text": [
      "35 columns\n",
      "620 rows\n",
      "Columns names: dict_keys(['row', 'year', 'unc_status', 'comp_major', 'primary_major', 'data_science', 'prereqs', 'prior_exp', 'ap_principles', 'ap_a', 'other_comp', 'prior_time', 'languages', 'hours_online_social', 'hours_online_work', 'lesson_time', 'sync_perf', 'all_sync', 'flipped_class', 'no_hybrid', 'own_notes', 'own_examples', 'oh_visits', 'ls_effective', 'lsqs_effective', 'programming_effective', 'qz_effective', 'oh_effective', 'tutoring_effective', 'pace', 'difficulty', 'understanding', 'interesting', 'valuable', 'would_recommend'])\n"
     ]
    }
   ],
   "source": [
    "data_cols: dict[str, list[str]] = columnar(data_rows)\n",
    "\n",
    "if len(data_cols.keys()) > 0:\n",
    "    print(f\"{len(data_cols.keys())} columns\")\n",
    "    print(f\"{len(data_cols['qz_effective'])} rows\")\n",
    "    print(f\"Columns names: {data_cols.keys()}\")"
   ]
  },
  {
   "cell_type": "markdown",
   "metadata": {},
   "source": [
    "## Head\n",
    "The goal of implemeting this function (head) was to see the rows of the table."
   ]
  },
  {
   "cell_type": "code",
   "execution_count": 8,
   "metadata": {},
   "outputs": [
    {
     "data": {
      "text/html": [
       "<table>\n",
       "<thead>\n",
       "<tr><th style=\"text-align: right;\">  row</th><th style=\"text-align: right;\">  year</th><th>unc_status                 </th><th>comp_major  </th><th>primary_major   </th><th>data_science  </th><th>prereqs                     </th><th>prior_exp                   </th><th>ap_principles  </th><th>ap_a  </th><th>other_comp                      </th><th>prior_time                  </th><th>languages               </th><th>hours_online_social  </th><th>hours_online_work  </th><th style=\"text-align: right;\">  lesson_time</th><th style=\"text-align: right;\">  sync_perf</th><th style=\"text-align: right;\">  all_sync</th><th style=\"text-align: right;\">  flipped_class</th><th style=\"text-align: right;\">  no_hybrid</th><th style=\"text-align: right;\">  own_notes</th><th style=\"text-align: right;\">  own_examples</th><th style=\"text-align: right;\">  oh_visits</th><th style=\"text-align: right;\">  ls_effective</th><th style=\"text-align: right;\">  lsqs_effective</th><th style=\"text-align: right;\">  programming_effective</th><th style=\"text-align: right;\">  qz_effective</th><th>oh_effective  </th><th>tutoring_effective  </th><th style=\"text-align: right;\">  pace</th><th style=\"text-align: right;\">  difficulty</th><th style=\"text-align: right;\">  understanding</th><th style=\"text-align: right;\">  interesting</th><th style=\"text-align: right;\">  valuable</th><th style=\"text-align: right;\">  would_recommend</th></tr>\n",
       "</thead>\n",
       "<tbody>\n",
       "<tr><td style=\"text-align: right;\">    0</td><td style=\"text-align: right;\">    22</td><td>Returning UNC Student      </td><td>No          </td><td>Mathematics     </td><td>No            </td><td>MATH 233, MATH 347, MATH 381</td><td>7-12 months                 </td><td>No             </td><td>No    </td><td>UNC                             </td><td>1 month or so               </td><td>Python, R / Matlab / SAS</td><td>3 to 5 hours         </td><td>0 to 2 hours       </td><td style=\"text-align: right;\">            6</td><td style=\"text-align: right;\">          2</td><td style=\"text-align: right;\">         2</td><td style=\"text-align: right;\">              1</td><td style=\"text-align: right;\">          2</td><td style=\"text-align: right;\">          4</td><td style=\"text-align: right;\">             4</td><td style=\"text-align: right;\">          0</td><td style=\"text-align: right;\">             7</td><td style=\"text-align: right;\">               3</td><td style=\"text-align: right;\">                      7</td><td style=\"text-align: right;\">             5</td><td>              </td><td>                    </td><td style=\"text-align: right;\">     1</td><td style=\"text-align: right;\">           1</td><td style=\"text-align: right;\">              7</td><td style=\"text-align: right;\">            5</td><td style=\"text-align: right;\">         6</td><td style=\"text-align: right;\">                5</td></tr>\n",
       "<tr><td style=\"text-align: right;\">    1</td><td style=\"text-align: right;\">    25</td><td>Returning UNC Student      </td><td>No          </td><td>Mathematics     </td><td>Yes           </td><td>MATH 130, MATH 231, STOR 155</td><td>None to less than one month!</td><td>               </td><td>      </td><td>                                </td><td>                            </td><td>                        </td><td>0 to 2 hours         </td><td>5 to 10 hours      </td><td style=\"text-align: right;\">            4</td><td style=\"text-align: right;\">          3</td><td style=\"text-align: right;\">         3</td><td style=\"text-align: right;\">              1</td><td style=\"text-align: right;\">          2</td><td style=\"text-align: right;\">          6</td><td style=\"text-align: right;\">             4</td><td style=\"text-align: right;\">          5</td><td style=\"text-align: right;\">             5</td><td style=\"text-align: right;\">               5</td><td style=\"text-align: right;\">                      5</td><td style=\"text-align: right;\">             5</td><td>7             </td><td>6                   </td><td style=\"text-align: right;\">     6</td><td style=\"text-align: right;\">           6</td><td style=\"text-align: right;\">              3</td><td style=\"text-align: right;\">            4</td><td style=\"text-align: right;\">         6</td><td style=\"text-align: right;\">                4</td></tr>\n",
       "<tr><td style=\"text-align: right;\">    2</td><td style=\"text-align: right;\">    25</td><td>Incoming First-year Student</td><td>Yes - BA    </td><td>Computer Science</td><td>No            </td><td>MATH 130, MATH 152, MATH 210</td><td>None to less than one month!</td><td>               </td><td>      </td><td>                                </td><td>                            </td><td>                        </td><td>3 to 5 hours         </td><td>5 to 10 hours      </td><td style=\"text-align: right;\">            3</td><td style=\"text-align: right;\">          3</td><td style=\"text-align: right;\">         4</td><td style=\"text-align: right;\">              2</td><td style=\"text-align: right;\">          1</td><td style=\"text-align: right;\">          7</td><td style=\"text-align: right;\">             7</td><td style=\"text-align: right;\">          2</td><td style=\"text-align: right;\">             5</td><td style=\"text-align: right;\">               6</td><td style=\"text-align: right;\">                      7</td><td style=\"text-align: right;\">             7</td><td>4             </td><td>                    </td><td style=\"text-align: right;\">     6</td><td style=\"text-align: right;\">           4</td><td style=\"text-align: right;\">              6</td><td style=\"text-align: right;\">            7</td><td style=\"text-align: right;\">         7</td><td style=\"text-align: right;\">                7</td></tr>\n",
       "<tr><td style=\"text-align: right;\">    3</td><td style=\"text-align: right;\">    24</td><td>Returning UNC Student      </td><td>Yes - BS    </td><td>Computer Science</td><td>Maybe         </td><td>MATH 231, MATH 232, STOR 155</td><td>2-6 months                  </td><td>No             </td><td>No    </td><td>High school course (IB or other)</td><td>None to less than one month!</td><td>Python                  </td><td>3 to 5 hours         </td><td>3 to 5 hours       </td><td style=\"text-align: right;\">            5</td><td style=\"text-align: right;\">          5</td><td style=\"text-align: right;\">         4</td><td style=\"text-align: right;\">              3</td><td style=\"text-align: right;\">          3</td><td style=\"text-align: right;\">          6</td><td style=\"text-align: right;\">             5</td><td style=\"text-align: right;\">          1</td><td style=\"text-align: right;\">             6</td><td style=\"text-align: right;\">               3</td><td style=\"text-align: right;\">                      5</td><td style=\"text-align: right;\">             5</td><td>5             </td><td>4                   </td><td style=\"text-align: right;\">     4</td><td style=\"text-align: right;\">           4</td><td style=\"text-align: right;\">              5</td><td style=\"text-align: right;\">            6</td><td style=\"text-align: right;\">         6</td><td style=\"text-align: right;\">                6</td></tr>\n",
       "<tr><td style=\"text-align: right;\">    4</td><td style=\"text-align: right;\">    25</td><td>Incoming First-year Student</td><td>Yes - BA    </td><td>Computer Science</td><td>No            </td><td>MATH 130                    </td><td>None to less than one month!</td><td>               </td><td>      </td><td>                                </td><td>                            </td><td>                        </td><td>0 to 2 hours         </td><td>3 to 5 hours       </td><td style=\"text-align: right;\">            7</td><td style=\"text-align: right;\">          3</td><td style=\"text-align: right;\">         3</td><td style=\"text-align: right;\">              3</td><td style=\"text-align: right;\">          2</td><td style=\"text-align: right;\">          6</td><td style=\"text-align: right;\">             3</td><td style=\"text-align: right;\">          5</td><td style=\"text-align: right;\">             6</td><td style=\"text-align: right;\">               6</td><td style=\"text-align: right;\">                      6</td><td style=\"text-align: right;\">             6</td><td>7             </td><td>3                   </td><td style=\"text-align: right;\">     6</td><td style=\"text-align: right;\">           5</td><td style=\"text-align: right;\">              5</td><td style=\"text-align: right;\">            6</td><td style=\"text-align: right;\">         6</td><td style=\"text-align: right;\">                7</td></tr>\n",
       "</tbody>\n",
       "</table>"
      ],
      "text/plain": [
       "'<table>\\n<thead>\\n<tr><th style=\"text-align: right;\">  row</th><th style=\"text-align: right;\">  year</th><th>unc_status                 </th><th>comp_major  </th><th>primary_major   </th><th>data_science  </th><th>prereqs                     </th><th>prior_exp                   </th><th>ap_principles  </th><th>ap_a  </th><th>other_comp                      </th><th>prior_time                  </th><th>languages               </th><th>hours_online_social  </th><th>hours_online_work  </th><th style=\"text-align: right;\">  lesson_time</th><th style=\"text-align: right;\">  sync_perf</th><th style=\"text-align: right;\">  all_sync</th><th style=\"text-align: right;\">  flipped_class</th><th style=\"text-align: right;\">  no_hybrid</th><th style=\"text-align: right;\">  own_notes</th><th style=\"text-align: right;\">  own_examples</th><th style=\"text-align: right;\">  oh_visits</th><th style=\"text-align: right;\">  ls_effective</th><th style=\"text-align: right;\">  lsqs_effective</th><th style=\"text-align: right;\">  programming_effective</th><th style=\"text-align: right;\">  qz_effective</th><th>oh_effective  </th><th>tutoring_effective  </th><th style=\"text-align: right;\">  pace</th><th style=\"text-align: right;\">  difficulty</th><th style=\"text-align: right;\">  understanding</th><th style=\"text-align: right;\">  interesting</th><th style=\"text-align: right;\">  valuable</th><th style=\"text-align: right;\">  would_recommend</th></tr>\\n</thead>\\n<tbody>\\n<tr><td style=\"text-align: right;\">    0</td><td style=\"text-align: right;\">    22</td><td>Returning UNC Student      </td><td>No          </td><td>Mathematics     </td><td>No            </td><td>MATH 233, MATH 347, MATH 381</td><td>7-12 months                 </td><td>No             </td><td>No    </td><td>UNC                             </td><td>1 month or so               </td><td>Python, R / Matlab / SAS</td><td>3 to 5 hours         </td><td>0 to 2 hours       </td><td style=\"text-align: right;\">            6</td><td style=\"text-align: right;\">          2</td><td style=\"text-align: right;\">         2</td><td style=\"text-align: right;\">              1</td><td style=\"text-align: right;\">          2</td><td style=\"text-align: right;\">          4</td><td style=\"text-align: right;\">             4</td><td style=\"text-align: right;\">          0</td><td style=\"text-align: right;\">             7</td><td style=\"text-align: right;\">               3</td><td style=\"text-align: right;\">                      7</td><td style=\"text-align: right;\">             5</td><td>              </td><td>                    </td><td style=\"text-align: right;\">     1</td><td style=\"text-align: right;\">           1</td><td style=\"text-align: right;\">              7</td><td style=\"text-align: right;\">            5</td><td style=\"text-align: right;\">         6</td><td style=\"text-align: right;\">                5</td></tr>\\n<tr><td style=\"text-align: right;\">    1</td><td style=\"text-align: right;\">    25</td><td>Returning UNC Student      </td><td>No          </td><td>Mathematics     </td><td>Yes           </td><td>MATH 130, MATH 231, STOR 155</td><td>None to less than one month!</td><td>               </td><td>      </td><td>                                </td><td>                            </td><td>                        </td><td>0 to 2 hours         </td><td>5 to 10 hours      </td><td style=\"text-align: right;\">            4</td><td style=\"text-align: right;\">          3</td><td style=\"text-align: right;\">         3</td><td style=\"text-align: right;\">              1</td><td style=\"text-align: right;\">          2</td><td style=\"text-align: right;\">          6</td><td style=\"text-align: right;\">             4</td><td style=\"text-align: right;\">          5</td><td style=\"text-align: right;\">             5</td><td style=\"text-align: right;\">               5</td><td style=\"text-align: right;\">                      5</td><td style=\"text-align: right;\">             5</td><td>7             </td><td>6                   </td><td style=\"text-align: right;\">     6</td><td style=\"text-align: right;\">           6</td><td style=\"text-align: right;\">              3</td><td style=\"text-align: right;\">            4</td><td style=\"text-align: right;\">         6</td><td style=\"text-align: right;\">                4</td></tr>\\n<tr><td style=\"text-align: right;\">    2</td><td style=\"text-align: right;\">    25</td><td>Incoming First-year Student</td><td>Yes - BA    </td><td>Computer Science</td><td>No            </td><td>MATH 130, MATH 152, MATH 210</td><td>None to less than one month!</td><td>               </td><td>      </td><td>                                </td><td>                            </td><td>                        </td><td>3 to 5 hours         </td><td>5 to 10 hours      </td><td style=\"text-align: right;\">            3</td><td style=\"text-align: right;\">          3</td><td style=\"text-align: right;\">         4</td><td style=\"text-align: right;\">              2</td><td style=\"text-align: right;\">          1</td><td style=\"text-align: right;\">          7</td><td style=\"text-align: right;\">             7</td><td style=\"text-align: right;\">          2</td><td style=\"text-align: right;\">             5</td><td style=\"text-align: right;\">               6</td><td style=\"text-align: right;\">                      7</td><td style=\"text-align: right;\">             7</td><td>4             </td><td>                    </td><td style=\"text-align: right;\">     6</td><td style=\"text-align: right;\">           4</td><td style=\"text-align: right;\">              6</td><td style=\"text-align: right;\">            7</td><td style=\"text-align: right;\">         7</td><td style=\"text-align: right;\">                7</td></tr>\\n<tr><td style=\"text-align: right;\">    3</td><td style=\"text-align: right;\">    24</td><td>Returning UNC Student      </td><td>Yes - BS    </td><td>Computer Science</td><td>Maybe         </td><td>MATH 231, MATH 232, STOR 155</td><td>2-6 months                  </td><td>No             </td><td>No    </td><td>High school course (IB or other)</td><td>None to less than one month!</td><td>Python                  </td><td>3 to 5 hours         </td><td>3 to 5 hours       </td><td style=\"text-align: right;\">            5</td><td style=\"text-align: right;\">          5</td><td style=\"text-align: right;\">         4</td><td style=\"text-align: right;\">              3</td><td style=\"text-align: right;\">          3</td><td style=\"text-align: right;\">          6</td><td style=\"text-align: right;\">             5</td><td style=\"text-align: right;\">          1</td><td style=\"text-align: right;\">             6</td><td style=\"text-align: right;\">               3</td><td style=\"text-align: right;\">                      5</td><td style=\"text-align: right;\">             5</td><td>5             </td><td>4                   </td><td style=\"text-align: right;\">     4</td><td style=\"text-align: right;\">           4</td><td style=\"text-align: right;\">              5</td><td style=\"text-align: right;\">            6</td><td style=\"text-align: right;\">         6</td><td style=\"text-align: right;\">                6</td></tr>\\n<tr><td style=\"text-align: right;\">    4</td><td style=\"text-align: right;\">    25</td><td>Incoming First-year Student</td><td>Yes - BA    </td><td>Computer Science</td><td>No            </td><td>MATH 130                    </td><td>None to less than one month!</td><td>               </td><td>      </td><td>                                </td><td>                            </td><td>                        </td><td>0 to 2 hours         </td><td>3 to 5 hours       </td><td style=\"text-align: right;\">            7</td><td style=\"text-align: right;\">          3</td><td style=\"text-align: right;\">         3</td><td style=\"text-align: right;\">              3</td><td style=\"text-align: right;\">          2</td><td style=\"text-align: right;\">          6</td><td style=\"text-align: right;\">             3</td><td style=\"text-align: right;\">          5</td><td style=\"text-align: right;\">             6</td><td style=\"text-align: right;\">               6</td><td style=\"text-align: right;\">                      6</td><td style=\"text-align: right;\">             6</td><td>7             </td><td>3                   </td><td style=\"text-align: right;\">     6</td><td style=\"text-align: right;\">           5</td><td style=\"text-align: right;\">              5</td><td style=\"text-align: right;\">            6</td><td style=\"text-align: right;\">         6</td><td style=\"text-align: right;\">                7</td></tr>\\n</tbody>\\n</table>'"
      ]
     },
     "execution_count": 8,
     "metadata": {},
     "output_type": "execute_result"
    }
   ],
   "source": [
    "from tabulate import tabulate\n",
    "\n",
    "data_cols_head: dict[str, list[str]] = head(data_cols, 5)\n",
    "tabulate(data_cols_head, data_cols_head.keys(), \"html\")"
   ]
  },
  {
   "cell_type": "markdown",
   "metadata": {},
   "source": [
    "## Select\n",
    "The goal of using the function (select) was to view only the column of qz_effective that are related to my analysis."
   ]
  },
  {
   "cell_type": "code",
   "execution_count": 9,
   "metadata": {},
   "outputs": [
    {
     "data": {
      "text/html": [
       "<table>\n",
       "<thead>\n",
       "<tr><th style=\"text-align: right;\">  qz_effective</th></tr>\n",
       "</thead>\n",
       "<tbody>\n",
       "<tr><td style=\"text-align: right;\">             5</td></tr>\n",
       "<tr><td style=\"text-align: right;\">             5</td></tr>\n",
       "<tr><td style=\"text-align: right;\">             7</td></tr>\n",
       "<tr><td style=\"text-align: right;\">             5</td></tr>\n",
       "<tr><td style=\"text-align: right;\">             6</td></tr>\n",
       "<tr><td style=\"text-align: right;\">             7</td></tr>\n",
       "<tr><td style=\"text-align: right;\">             5</td></tr>\n",
       "<tr><td style=\"text-align: right;\">             7</td></tr>\n",
       "<tr><td style=\"text-align: right;\">             7</td></tr>\n",
       "<tr><td style=\"text-align: right;\">             7</td></tr>\n",
       "</tbody>\n",
       "</table>"
      ],
      "text/plain": [
       "'<table>\\n<thead>\\n<tr><th style=\"text-align: right;\">  qz_effective</th></tr>\\n</thead>\\n<tbody>\\n<tr><td style=\"text-align: right;\">             5</td></tr>\\n<tr><td style=\"text-align: right;\">             5</td></tr>\\n<tr><td style=\"text-align: right;\">             7</td></tr>\\n<tr><td style=\"text-align: right;\">             5</td></tr>\\n<tr><td style=\"text-align: right;\">             6</td></tr>\\n<tr><td style=\"text-align: right;\">             7</td></tr>\\n<tr><td style=\"text-align: right;\">             5</td></tr>\\n<tr><td style=\"text-align: right;\">             7</td></tr>\\n<tr><td style=\"text-align: right;\">             7</td></tr>\\n<tr><td style=\"text-align: right;\">             7</td></tr>\\n</tbody>\\n</table>'"
      ]
     },
     "execution_count": 9,
     "metadata": {},
     "output_type": "execute_result"
    }
   ],
   "source": [
    "selected_questions: dict[str, list[str]] = select(data_cols, [\"qz_effective\"])\n",
    "tabulate(head(selected_questions, 10), selected_questions.keys(), \"html\")"
   ]
  },
  {
   "cell_type": "markdown",
   "metadata": {},
   "source": [
    "## Greater than\n",
    "after using the select function, I then use the greater_than function that creates a new list that only included rating values that were above a four for qz_effective."
   ]
  },
  {
   "cell_type": "code",
   "execution_count": 10,
   "metadata": {},
   "outputs": [
    {
     "data": {
      "text/plain": [
       "['5', '5', '7', '5', '6']"
      ]
     },
     "execution_count": 10,
     "metadata": {},
     "output_type": "execute_result"
    }
   ],
   "source": [
    "new_list: list[str] = greater_than(selected_questions, 4)\n",
    "final_list: list[str] = []\n",
    "i: int = 0\n",
    "while i < 5:\n",
    "    final_list.append(new_list[i])\n",
    "    i += 1\n",
    "final_list"
   ]
  },
  {
   "cell_type": "markdown",
   "metadata": {},
   "source": [
    "## Count\n",
    "Counts the number of times a rating was above a 4. Counts how many times a value was a 5/6/7 for qz effectivness\n",
    "I then used the count function to count the number of times that each rating was used."
   ]
  },
  {
   "cell_type": "code",
   "execution_count": 11,
   "metadata": {},
   "outputs": [
    {
     "name": "stdout",
     "output_type": "stream",
     "text": [
      "qzcounts_effective: {'5': 148, '7': 148, '6': 140}\n"
     ]
    }
   ],
   "source": [
    "\n",
    "quiz: dict[str, int] = count(new_list)\n",
    "\n",
    "print(f\"qzcounts_effective: {quiz}\")"
   ]
  },
  {
   "cell_type": "markdown",
   "metadata": {},
   "source": [
    "## Select\n",
    "The goal of using the function (select) was to view only the column of programming_effective that are related to my analysis."
   ]
  },
  {
   "cell_type": "code",
   "execution_count": 12,
   "metadata": {},
   "outputs": [
    {
     "data": {
      "text/html": [
       "<table>\n",
       "<thead>\n",
       "<tr><th style=\"text-align: right;\">  programming_effective</th></tr>\n",
       "</thead>\n",
       "<tbody>\n",
       "<tr><td style=\"text-align: right;\">                      7</td></tr>\n",
       "<tr><td style=\"text-align: right;\">                      5</td></tr>\n",
       "<tr><td style=\"text-align: right;\">                      7</td></tr>\n",
       "<tr><td style=\"text-align: right;\">                      5</td></tr>\n",
       "<tr><td style=\"text-align: right;\">                      6</td></tr>\n",
       "<tr><td style=\"text-align: right;\">                      7</td></tr>\n",
       "<tr><td style=\"text-align: right;\">                      7</td></tr>\n",
       "<tr><td style=\"text-align: right;\">                      7</td></tr>\n",
       "<tr><td style=\"text-align: right;\">                      7</td></tr>\n",
       "<tr><td style=\"text-align: right;\">                      7</td></tr>\n",
       "</tbody>\n",
       "</table>"
      ],
      "text/plain": [
       "'<table>\\n<thead>\\n<tr><th style=\"text-align: right;\">  programming_effective</th></tr>\\n</thead>\\n<tbody>\\n<tr><td style=\"text-align: right;\">                      7</td></tr>\\n<tr><td style=\"text-align: right;\">                      5</td></tr>\\n<tr><td style=\"text-align: right;\">                      7</td></tr>\\n<tr><td style=\"text-align: right;\">                      5</td></tr>\\n<tr><td style=\"text-align: right;\">                      6</td></tr>\\n<tr><td style=\"text-align: right;\">                      7</td></tr>\\n<tr><td style=\"text-align: right;\">                      7</td></tr>\\n<tr><td style=\"text-align: right;\">                      7</td></tr>\\n<tr><td style=\"text-align: right;\">                      7</td></tr>\\n<tr><td style=\"text-align: right;\">                      7</td></tr>\\n</tbody>\\n</table>'"
      ]
     },
     "execution_count": 12,
     "metadata": {},
     "output_type": "execute_result"
    }
   ],
   "source": [
    "selected_questions: dict[str, list[str]] = select(data_cols, [\"programming_effective\"])\n",
    "tabulate(head(selected_questions, 10), selected_questions.keys(), \"html\")"
   ]
  },
  {
   "cell_type": "markdown",
   "metadata": {},
   "source": [
    "## Greater than\n",
    "after using the select function, I then use the greater_than function that creates a new list that only included rating values that were above a four for qz_effective.\n"
   ]
  },
  {
   "cell_type": "code",
   "execution_count": 13,
   "metadata": {},
   "outputs": [
    {
     "data": {
      "text/plain": [
       "['7', '5', '7', '5', '6']"
      ]
     },
     "execution_count": 13,
     "metadata": {},
     "output_type": "execute_result"
    }
   ],
   "source": [
    "new_list: list[str] = greater_than(selected_questions, 4)\n",
    "final_list: list[str] = []\n",
    "i: int = 0\n",
    "while i < 5:\n",
    "    final_list.append(new_list[i])\n",
    "    i += 1\n",
    "final_list"
   ]
  },
  {
   "cell_type": "markdown",
   "metadata": {},
   "source": [
    "## Count\n",
    "Counts the number of times a rating was above a 4. Counts how many times a value was a 5/6/7 for programming effectivness"
   ]
  },
  {
   "cell_type": "code",
   "execution_count": 14,
   "metadata": {},
   "outputs": [
    {
     "name": "stdout",
     "output_type": "stream",
     "text": [
      "programming: {'7': 324, '5': 82, '6': 154}\n"
     ]
    }
   ],
   "source": [
    "programming: dict[str, int] = count(new_list)\n",
    "print(f\"programming: {programming}\")"
   ]
  },
  {
   "cell_type": "markdown",
   "metadata": {},
   "source": [
    "## matplotlib\n",
    "After the data was analyzed, I then use matplotlib to create a bar graph that shows the effectiveness of quizzes to the effectiveness of programming"
   ]
  },
  {
   "cell_type": "code",
   "execution_count": 36,
   "metadata": {},
   "outputs": [
    {
     "data": {
      "text/plain": [
       "<BarContainer object of 3 artists>"
      ]
     },
     "execution_count": 36,
     "metadata": {},
     "output_type": "execute_result"
    },
    {
     "data": {
      "image/png": "[encoded data removed]",
      "text/plain": [
       "<Figure size 864x360 with 2 Axes>"
      ]
     },
     "metadata": {
      "needs_background": "light"
     },
     "output_type": "display_data"
    }
   ],
   "source": [
    "from matplotlib import pyplot as plt\n",
    "import numpy as np\n",
    "import matplotlib.pyplot as plt\n",
    "\n",
    "fig, axes = plt.subplots(1, 2, figsize=(12, 5), sharey=True)\n",
    "fig.suptitle(\"Effectiveness\")\n",
    "\n",
    "\n",
    "axes[0].set_title(\"programming_effective\")\n",
    "axes[0].bar(programming.keys(), programming.values())\n",
    "axes[0].tick_params(axis='x', labelrotation = 45)\n",
    "plt.ylabel('student responses')\n",
    "plt.xlabel('ratings')\n",
    "\n",
    "\n",
    "plt.ylabel('student responses')\n",
    "plt.xlabel('ratings')\n",
    "axes[1].set_title(\"qz_effective\")\n",
    "axes[1].bar(quiz.keys(), quiz.values())\n",
    "\n",
    "\n"
   ]
  },
  {
   "cell_type": "markdown",
   "metadata": {},
   "source": [
    "## Conclusion\n",
    "\n",
    "In the following markdown cell, write a reflective conclusion given the analysis you performed and identify recommendations.\n",
    "\n",
    "If your analysis of the data supports your idea, state your recommendation for the change and summarize the data analysys results you found which support it. Additionally, describe any extensions or refinements to this idea which might be explored further. Finally, discuss the potential costs, trade-offs, or stakeholders who may be negatively impacted by this proposed change.\n",
    "\n",
    "If your analysis of the data is inconclusive, summarize why your data analysis results were inconclusive in the support of your idea. Additionally, describe what experimental idea implementation or additional data collection might help build more confidence in assessing your idea. Finally, discuss the potential costs, trade-offs, or stakeholders who may be negatively impacted by experimenting with your idea.\n",
    "\n",
    "Finally, if your analysis of the data does not support it, summarize your data analysis results and why it refutes your idea. Discuss the potential costs, trade-offs, or stakeholders who may be negatively impacted by this proposed change. If you disagree with the validity of the findings, describe why your idea still makes sense to implement and what alternative data would better support it. If you agree with the validity of the data analysis, describe what alternate ideas or extensions you would explore instead. "
   ]
  },
  {
   "cell_type": "markdown",
   "metadata": {},
   "source": [
    "### Part 5. Conclusion\n",
    "\n",
    "The analysis I performed on the assessment effectiveness of quizzes versus programming assignments suggests the idea that projects and exercises are a better tool for assessing student performance in class and their comprehension of the material. The bar graph produced displays how strongly students feel the quizzes or programming assignments help them to learn the material. A “7” is considered strongly agree and a “1” is strongly disagree. I chose any number above a “4” for analysis. Based on the data, over 50% of the students (approximately 350 out of 620) strongly agree, “7”, that programming assignments are effective. In comparison, only about 24% of students (150 out of 620) strongly agree, “7”, that quizzes are effective. The ratings for a “6” were similar with slightly more students preferring programming assignments. Based on these findings, it would suggest that programming assignments are more effective for the students in learning the material, and therefore would also be a better assessment tool for student performance. \n",
    "Choosing to eliminate quizzes as an assessment tool would allow the course to potentially add in additional projects to replace the quizzes. It has been demonstrated from the data that students feel the programming assignments are more beneficial for learning the material, and if more programming assignments are given then the students’ knowledge increases. A potential downside of eliminating quizzes is that students could get more outside help on the programming assignments and it has the potential to increase cheating. Also, some students may perform better in the quiz environment so it would penalize those students. \n",
    "The data suggests this idea has merit, but a possible refinement to the idea would be to reduce the number of quizzes. By doing this more programming assignments could then be added while keeping one or two quizzes. The instructor and TAs would put more time into creating programming assignments instead of quizzes (and administering the quizzes). Additionally, the percentage of the final grade could weigh programming assignments higher than quizzes, reflecting the importance of programming assignments over quizzes. The idea should be explored and additional data should also be collected on the effectiveness quizzes versus programming assignments. For instance, student grades on the assignments versus the quizzes would be valuable to analyze. \n",
    "\n"
   ]
  }
 ],
 "metadata": {
  "interpreter": {
   "hash": "aee8b7b246df8f9039afb4144a1f6fd8d2ca17a180786b69acc140d282b71a49"
  },
  "kernelspec": {
   "display_name": "Python 3.10.2 64-bit",
   "language": "python",
   "name": "python3"
  },
  "language_info": {
   "codemirror_mode": {
    "name": "ipython",
    "version": 3
   },
   "file_extension": ".py",
   "mimetype": "text/x-python",
   "name": "python",
   "nbconvert_exporter": "python",
   "pygments_lexer": "ipython3",
   "version": "3.10.1"
  },
  "orig_nbformat": 4
 },
 "nbformat": 4,
 "nbformat_minor": 2
}
